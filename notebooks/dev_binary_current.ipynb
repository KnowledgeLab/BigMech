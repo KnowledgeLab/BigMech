{
 "cells": [
  {
   "cell_type": "code",
   "execution_count": 1,
   "metadata": {},
   "outputs": [],
   "source": [
    "from datahelpers.constants import iden, ye, ai, ps, up, dn, ar, ni, cexp, qcexp, nw, wi, dist, rdist, bdist, pm, \\\n",
    "                                    cpop, cden, ct, affs, aus\n",
    "from os.path import expanduser, join\n",
    "import pandas as pd\n",
    "from bm_support.add_features import generate_feature_groups\n",
    "from bm_support.add_features import normalize_columns, select_feature_families, transform_last_stage\n",
    "from bm_support.supervised_aux import study_sample, metric_selector\n",
    "from functools import partial\n",
    "from multiprocessing import Pool\n",
    "from copy import deepcopy\n",
    "import warnings\n",
    "from numpy.random import RandomState\n",
    "import gzip\n",
    "import pickle\n",
    "import argparse\n",
    "import numpy as np\n",
    "from numpy.random import RandomState\n",
    "from bm_support.sampling import sample_by_length\n",
    "from datahelpers.dftools import keep_longer_histories\n",
    "from sklearn.metrics import roc_auc_score, roc_curve, accuracy_score, precision_score, recall_score,\\\n",
    "    f1_score, classification_report, confusion_matrix, balanced_accuracy_score\n",
    "from itertools import combinations, product\n",
    "from bm_support.supervised import report_metrics_, train_massif, train_massif_clean, clean_zeros\n",
    "from bm_support.supervised import invert_bayes, aggregate_over_claims_new, aggregate_over_claims_comm\n",
    "from sklearn.linear_model import LogisticRegression\n",
    "from bm_support.supervised_aux import find_optimal_model, produce_topk_model\n",
    "from sklearn.tree import DecisionTreeClassifier, export_graphviz\n",
    "from bm_support.supervised_aux import simple_stratify\n",
    "from numpy.random import RandomState\n",
    "from bm_support.supervised_aux import find_optimal_model, produce_topk_model\n",
    "from pprint import pprint\n",
    "\n",
    "warnings.filterwarnings('ignore')\n",
    "%load_ext autoreload\n",
    "%autoreload 1\n",
    "%aimport bm_support.supervised_aux\n",
    "%aimport bm_support.add_features"
   ]
  },
  {
   "cell_type": "code",
   "execution_count": 2,
   "metadata": {},
   "outputs": [
    {
     "name": "stdout",
     "output_type": "stream",
     "text": [
      "['cpop', 'cden', 'ksst', 'nhi', 'affiliations_affind', 'authors_affind', 'future_affind', 'past_affind', 'affiliations_suppind', 'authors_suppind', 'future_suppind', 'past_suppind', 'affiliations_comm_size', 'authors_comm_size', 'future_comm_size', 'past_comm_size', 'affiliations_ncomms', 'authors_ncomms', 'future_ncomms', 'past_ncomms', 'affiliations_ncomponents', 'authors_ncomponents', 'future_ncomponents', 'past_ncomponents', 'pre_authors', 'pre_affs']\n",
      "{'cpop': 8, 'cden': 8, 'ksst': 7, 'nhi': 2, 'affiliations_affind': 4, 'authors_affind': 4, 'future_affind': 4, 'past_affind': 4, 'affiliations_suppind': 4, 'authors_suppind': 4, 'future_suppind': 4, 'past_suppind': 4, 'affiliations_comm_size': 0, 'authors_comm_size': 0, 'future_comm_size': 0, 'past_comm_size': 0, 'affiliations_ncomms': 0, 'authors_ncomms': 0, 'future_ncomms': 0, 'past_ncomms': 0, 'affiliations_ncomponents': 0, 'authors_ncomponents': 0, 'future_ncomponents': 0, 'past_ncomponents': 0, 'pre_authors': 1, 'pre_affs': 1, 'citations': 12, 'time': 2, 'authors_count': 1, 'affiliations_count': 1, 'obs_mu': 1, 'ai': 1, 'ar': 1, 'cite_count': 1, 'delta_year': 1, 'lincscomm_size': 5, 'lincssame_comm': 5, 'litgwdyn_eff_comm_size': 6, 'litgwdyn_same_comm': 0, 'litgwcomm_size': 6, 'litgwsame_comm': 0}\n",
      "102 133\n",
      "['authors', 'bdist', 'cdf_exp', 'dn', 'guess', 'iid', 'len', 'litgw_comm_im_dir_unwei_p95_dyn_csize_dn', 'litgw_comm_im_dir_unwei_p95_dyn_csize_up', 'litgw_comm_im_dir_wei_pNone_dyn_csize_dn', 'litgw_comm_im_dir_wei_pNone_dyn_csize_up', 'litgw_comm_im_undir_unwei_p95_dyn_csize_dn', 'litgw_comm_im_undir_unwei_p95_dyn_csize_up', 'litgw_comm_im_undir_wei_pNone_dyn_csize_dn', 'litgw_comm_im_undir_wei_pNone_dyn_csize_up', 'litgw_comm_ml_undir_unwei_p95_dyn_csize_dn', 'litgw_comm_ml_undir_unwei_p95_dyn_csize_up', 'litgw_comm_ml_undir_wei_pNone_dyn_csize_dn', 'litgw_comm_ml_undir_wei_pNone_dyn_csize_up', 'max_year', 'mean', 'min_year', 'new_index', 'pmid', 'pop_density', 'pos', 'qcdf_exp', 'rdist', 'std', 'up']\n",
      "41\n",
      "Number of col families: 41. Keys: ['affiliations_affind', 'affiliations_comm_size', 'affiliations_count', 'affiliations_ncomms', 'affiliations_ncomponents', 'affiliations_suppind', 'ai', 'ar', 'authors_affind', 'authors_comm_size', 'authors_count', 'authors_ncomms', 'authors_ncomponents', 'authors_suppind', 'cden', 'citations', 'cite_count', 'cpop', 'delta_year', 'future_affind', 'future_comm_size', 'future_ncomms', 'future_ncomponents', 'future_suppind', 'ksst', 'lincscomm_size', 'lincssame_comm', 'litgwcomm_size', 'litgwdyn_eff_comm_size', 'litgwdyn_same_comm', 'litgwsame_comm', 'nhi', 'obs_mu', 'past_affind', 'past_comm_size', 'past_ncomms', 'past_ncomponents', 'past_suppind', 'pre_affs', 'pre_authors', 'time']\n",
      "Number of col families (excl. future): 36. Keys: ['affiliations_affind', 'affiliations_comm_size', 'affiliations_count', 'affiliations_ncomms', 'affiliations_ncomponents', 'affiliations_suppind', 'ai', 'ar', 'authors_affind', 'authors_comm_size', 'authors_count', 'authors_ncomms', 'authors_ncomponents', 'authors_suppind', 'cden', 'citations', 'cite_count', 'cpop', 'delta_year', 'ksst', 'lincscomm_size', 'lincssame_comm', 'litgwcomm_size', 'litgwdyn_eff_comm_size', 'litgwdyn_same_comm', 'litgwsame_comm', 'nhi', 'obs_mu', 'past_affind', 'past_comm_size', 'past_ncomms', 'past_ncomponents', 'past_suppind', 'pre_affs', 'pre_authors', 'time']\n"
     ]
    }
   ],
   "source": [
    "ratios = (2., 1., 1.)\n",
    "seed0 = 17\n",
    "n_trials = 1\n",
    "datapath = None\n",
    "verbose = True\n",
    "model_type = 'lr'\n",
    "cooked_version = 12\n",
    "origin = 'litgw'\n",
    "version = 1\n",
    "origin = 'gw'\n",
    "version = 11\n",
    "\n",
    "an_version = 20\n",
    "an_version = 22\n",
    "excl_columns=()\n",
    "target = dist\n",
    "\n",
    "min_log_alpha = -2\n",
    "max_log_alpha = 2\n",
    "log_reg_dict = {'min_log_alpha': min_log_alpha, 'max_log_alpha': max_log_alpha}\n",
    "\n",
    "eps = 0.2\n",
    "upper_exp, lower_exp = 1 - eps, eps\n",
    "# thrs = [-1e-8, lower_exp, upper_exp, 1.0001e0]\n",
    "if datapath:\n",
    "    col_families = generate_feature_groups(expanduser(join(datapath, 'v14_columns.txt')))\n",
    "else:\n",
    "    col_families = generate_feature_groups(expanduser('~/data/kl/columns/v14_columns.txt'))\n",
    "\n",
    "if verbose:\n",
    "    print('Number of col families: {0}. Keys: {1}'.format(len(col_families), sorted(col_families.keys())))\n",
    "\n",
    "col_families = {k: v for k, v in col_families.items() if 'future' not in k}\n",
    "if verbose:\n",
    "    print('Number of col families (excl. future): {0}. Keys: {1}'.format(len(col_families),\n",
    "                                                                         sorted(col_families.keys())))\n",
    "\n",
    "columns_interest = [x for sublist in col_families.values() for x in sublist]\n",
    "if datapath:\n",
    "    df_path = expanduser(join(datapath, '{0}_{1}_{2}.h5'.format(origin, version, cooked_version)))\n",
    "else:\n",
    "    df_path = expanduser('~/data/kl/final/{0}_{1}_{2}.h5'.format(origin, version, cooked_version))\n",
    "df = pd.read_hdf(df_path, key='df')\n",
    "\n",
    "\n",
    "feature_dict = deepcopy(col_families)\n",
    "\n",
    "families = select_feature_families(an_version)\n",
    "feature_dict = {k: v for k, v in feature_dict.items() if k in families}\n",
    "excl_columns = list(set(excl_columns) | {target})\n",
    "\n",
    "feature_dict = {k: list(v) for k, v in feature_dict.items() if not any([c in v for c in excl_columns])}\n",
    "\n",
    "trial_features = [x for sublist in feature_dict.values() for x in sublist]\n",
    "\n",
    "feature_dict_inv = {}\n",
    "for k, v in feature_dict.items():\n",
    "    feature_dict_inv.update({x: k for x in v})\n",
    "\n",
    "# mask: not nulls in trial features\n",
    "# df['obs_mu'].loc[df['obs_mu'].isnull()] = 0.5"
   ]
  },
  {
   "cell_type": "code",
   "execution_count": 3,
   "metadata": {},
   "outputs": [
    {
     "name": "stdout",
     "output_type": "stream",
     "text": [
      "6626\n"
     ]
    },
    {
     "data": {
      "text/plain": [
       "(7110, 6626)"
      ]
     },
     "execution_count": 3,
     "metadata": {},
     "output_type": "execute_result"
    }
   ],
   "source": [
    "touch_columns = list(set(trial_features) - {'obs_mu'})\n",
    "dfw = transform_last_stage(df, touch_columns, origin, 0, False, verbose=False)\n",
    "sum(df['obs_mu'].isnull()), sum(dfw['obs_mu'].isnull())"
   ]
  },
  {
   "cell_type": "code",
   "execution_count": 4,
   "metadata": {},
   "outputs": [
    {
     "name": "stdout",
     "output_type": "stream",
     "text": [
      "0\n",
      "power law exponent: -1.891\n",
      "6441\n",
      "total size of train and test : 4504 1937\n",
      "Ratio test to all: 0.3007297003570874. Should be 0.3\n",
      "df_train power law exponent: -1.610\n",
      "df_test power law exponent: -1.390\n"
     ]
    }
   ],
   "source": [
    "touch_columns = list(set(trial_features) - {'obs_mu'})\n",
    "dfw = transform_last_stage(df, trial_features, origin, 2, False, verbose=False)\n",
    "df_train, df_test = sample_by_length(dfw, (up, dn), head=10, seed=10, frac_test=0.3, verbose=True)\n",
    "dfa_train, dfa_test = df_train[df_train['obs_mu'].isnull()].copy(), df_test[df_test['obs_mu'].isnull()].copy()\n",
    "dfb_train, dfb_test = df_train[~df_train['obs_mu'].isnull()].copy(), df_test[~df_test['obs_mu'].isnull()].copy()"
   ]
  },
  {
   "cell_type": "code",
   "execution_count": 5,
   "metadata": {},
   "outputs": [
    {
     "name": "stdout",
     "output_type": "stream",
     "text": [
      "7110\n",
      "power law exponent: -2.312\n",
      "15494\n",
      "total size of train and test : 10823 4671\n",
      "Ratio test to all: 0.30147153736930427. Should be 0.3\n",
      "df_train power law exponent: -2.208\n",
      "df_test power law exponent: -2.543\n"
     ]
    },
    {
     "data": {
      "image/png": "[encoded data removed]",
      "text/plain": [
       "<Figure size 432x288 with 1 Axes>"
      ]
     },
     "metadata": {
      "needs_background": "light"
     },
     "output_type": "display_data"
    }
   ],
   "source": [
    "rns = RandomState(seed0)\n",
    "n_trials = 10\n",
    "nmax = 10000\n",
    "seeds = rns.randint(nmax, size=n_trials)\n",
    "# cur_features = list(set(trial_features) - {'obs_mu'})\n",
    "# cur_features = list(set(trial_features) - {'obs_mu'})\n",
    "cur_features = ['obs_mu']\n",
    "\n",
    "touch_columns = list(set(cur_features) - {'obs_mu'})\n",
    "dfw = transform_last_stage(df, touch_columns, origin, 0, False, verbose=False)\n",
    "df_train, df_test = sample_by_length(dfw, (up, dn), head=10, seed=10, frac_test=0.3, verbose=True)\n",
    "dfa_train, dfa_test = df_train[df_train['obs_mu'].isnull()].copy(), df_test[df_test['obs_mu'].isnull()].copy()\n",
    "dfb_train, dfb_test = df_train[~df_train['obs_mu'].isnull()].copy(), df_test[~df_test['obs_mu'].isnull()].copy()\n",
    "\n",
    "df_train, df_test = dfb_train, dfb_test\n",
    "\n",
    "p_opts = []\n",
    "feat_dict = []\n",
    "for seed in seeds:\n",
    "    df_train2 = simple_stratify(df_train, bdist, seed=seed, ratios=(2, 1))\n",
    "    X_train, y_train = df_train2[cur_features], df_train2[bdist]\n",
    "#     X_train, y_train = df_train[cur_features], df_train[bdist]\n",
    "    clf, c_opt, acc_opt = find_optimal_model(X_train, y_train, 15)\n",
    "    iis = np.nonzero(clf.coef_)[1]\n",
    "    xs, ys, p_norm = produce_topk_model(clf, df_test, cur_features, bdist, 'lr')\n",
    "    feat_dict.append((np.max(ys), {cur_features[ii]:clf.coef_[0, ii] for ii in iis}))\n",
    "    p_opts.append((np.max(ys), p_norm))"
   ]
  },
  {
   "cell_type": "code",
   "execution_count": 6,
   "metadata": {},
   "outputs": [
    {
     "name": "stdout",
     "output_type": "stream",
     "text": [
      "'out-sample mean prec: 0.961, err: 0.000, base 0.170'\n",
      "[(0.9606557377049181, {'obs_mu': 5.353806909779701}),\n",
      " (0.9606557377049181, {'obs_mu': 4.3899042463097695}),\n",
      " (0.9606557377049181, {'obs_mu': 3.3882373904838268}),\n",
      " (0.9606557377049181, {'obs_mu': 4.398643807798623}),\n",
      " (0.9606557377049181, {'obs_mu': 5.66149423381061}),\n",
      " (0.9606557377049181, {'obs_mu': 3.4287986613934884}),\n",
      " (0.9606557377049181, {'obs_mu': 5.633353126594538}),\n",
      " (0.9606557377049181, {'obs_mu': 5.3443187100677285}),\n",
      " (0.9606557377049181, {'obs_mu': 3.41629638814016}),\n",
      " (0.9606557377049181, {'obs_mu': 3.4185868481641317})]\n"
     ]
    }
   ],
   "source": [
    "pprint('out-sample mean prec: {0:.3f}, err: {1:.3f}, base {2:.3f}'.format(np.mean([x for x, _ in p_opts]), \n",
    "                                                         np.std([x for x, _ in p_opts]),\n",
    "                                                                       1. - df_test[bdist].mean()))\n",
    "pprint(feat_dict)"
   ]
  },
  {
   "cell_type": "code",
   "execution_count": 10,
   "metadata": {},
   "outputs": [
    {
     "name": "stdout",
     "output_type": "stream",
     "text": [
      "6626\n",
      "power law exponent: -2.310\n",
      "7926\n",
      "total size of train and test : 5523 2403\n",
      "Ratio test to all: 0.30317940953822864. Should be 0.3\n",
      "df_train power law exponent: -1.913\n",
      "df_test power law exponent: -2.331\n"
     ]
    },
    {
     "data": {
      "image/png": "[encoded data removed]",
      "text/plain": [
       "<Figure size 432x288 with 1 Axes>"
      ]
     },
     "metadata": {
      "needs_background": "light"
     },
     "output_type": "display_data"
    }
   ],
   "source": [
    "rns = RandomState(seed0)\n",
    "n_trials = 5\n",
    "nmax = 10000\n",
    "seeds = rns.randint(nmax, size=n_trials)\n",
    "# cur_features = list(set(trial_features) - {'obs_mu'})\n",
    "cur_features = list(set(trial_features) - {'obs_mu'})\n",
    "\n",
    "touch_columns = list(set(trial_features) - {'obs_mu'})\n",
    "dfw = transform_last_stage(df, touch_columns, origin, 2, False, verbose=False)\n",
    "df_train, df_test = sample_by_length(dfw, (up, dn), head=10, seed=10, frac_test=0.3, verbose=True)\n",
    "dfa_train, dfa_test = df_train[df_train['obs_mu'].isnull()].copy(), df_test[df_test['obs_mu'].isnull()].copy()\n",
    "dfb_train, dfb_test = df_train[~df_train['obs_mu'].isnull()].copy(), df_test[~df_test['obs_mu'].isnull()].copy()\n",
    "\n",
    "df_train, df_test = dfa_train, dfa_test\n",
    "\n",
    "p_opts = []\n",
    "feat_dict = []\n",
    "for seed in seeds:\n",
    "    df_train2 = simple_stratify(df_train, bdist, seed=seed, ratios=(2, 1))\n",
    "    X_train, y_train = df_train2[cur_features], df_train2[bdist]\n",
    "#     X_train, y_train = df_train[cur_features], df_train[bdist]\n",
    "    clf, c_opt, acc_opt = find_optimal_model(X_train, y_train, 15)\n",
    "    iis = np.nonzero(clf.coef_)[1]\n",
    "    xs, ys, p_norm = produce_topk_model(clf, df_test, cur_features, bdist, 'lr')\n",
    "    feat_dict.append((np.max(ys), {cur_features[ii]:clf.coef_[0, ii] for ii in iis}))\n",
    "    p_opts.append((np.max(ys), p_norm))"
   ]
  },
  {
   "cell_type": "code",
   "execution_count": 11,
   "metadata": {},
   "outputs": [
    {
     "name": "stdout",
     "output_type": "stream",
     "text": [
      "'out-sample mean prec: 0.200, err: 0.040, base 0.084'\n",
      "[(0.20270270270270271,\n",
      "  {'A': 4.046473117923802e-05,\n",
      "   'cite_count': -5.717501201437996e-05,\n",
      "   'err': 9.193931407245904e-06,\n",
      "   'int_3': 0.0007161310510524166,\n",
      "   'lincs_comm_im_dir_unwei_p95_eff_comm_size': 0.0002007867003650633,\n",
      "   'lincs_comm_im_dir_wei_pNone_eff_comm_size': 0.00020099763181531986,\n",
      "   'lincs_comm_im_undir_unwei_p95_eff_comm_size': 0.03321158311536178,\n",
      "   'lincs_comm_ml_undir_unwei_p95_eff_comm_size': -0.0008313940453321594,\n",
      "   'lincs_comm_ml_undir_wei_pNone_eff_comm_size': -0.0001765133792619232,\n",
      "   'litgw_comm_im_dir_unwei_p95_eff_comm_size': 0.00010766009897133723,\n",
      "   'litgw_comm_im_dir_wei_pNone_eff_comm_size': -0.0010640699069745156,\n",
      "   'litgw_comm_im_undir_unwei_p95_eff_comm_size': -0.016991023522767414,\n",
      "   'litgw_comm_ml_undir_unwei_p95_eff_comm_size': 0.0005324566427038782,\n",
      "   'litgw_comm_ml_undir_wei_pNone_eff_comm_size': -0.0010010864348363195,\n",
      "   'mu': -0.01816910554346576}),\n",
      " (0.14772727272727273,\n",
      "  {'A': 0.00011294766168943117,\n",
      "   'cite_count': 8.763749927722928e-06,\n",
      "   'delta_year': -0.04399558014978404,\n",
      "   'err': 9.527271075171738e-06,\n",
      "   'int_3': 0.0021918135534684307,\n",
      "   'lincs_comm_im_dir_unwei_p95_eff_comm_size': 0.00019335188275515405,\n",
      "   'lincs_comm_im_dir_wei_pNone_eff_comm_size': 0.00019001756464950416,\n",
      "   'lincs_comm_im_undir_unwei_p95_eff_comm_size': 0.047394591662455104,\n",
      "   'lincs_comm_ml_undir_unwei_p95_eff_comm_size': -0.0010174606831559305,\n",
      "   'lincs_comm_ml_undir_wei_pNone_eff_comm_size': -0.00014128706865271698,\n",
      "   'litgw_comm_im_dir_unwei_p95_eff_comm_size': 0.00013632672373116848,\n",
      "   'litgw_comm_im_dir_wei_pNone_eff_comm_size': -0.0010073918535305414,\n",
      "   'litgw_comm_im_undir_wei_pNone_eff_comm_size': -0.0019596095003138352,\n",
      "   'litgw_comm_ml_undir_unwei_p95_eff_comm_size': 0.0006196506412283527,\n",
      "   'litgw_comm_ml_undir_wei_pNone_eff_comm_size': -0.000738201558102134}),\n",
      " (0.26666666666666666,\n",
      "  {'A': 9.260242553529426e-05,\n",
      "   'cite_count': -7.375130022316572e-08,\n",
      "   'err': 9.648244210207036e-07,\n",
      "   'int_3': -0.00029801895370123934,\n",
      "   'lincs_comm_im_dir_unwei_p95_eff_comm_size': 4.503817709990367e-05,\n",
      "   'lincs_comm_im_dir_wei_pNone_eff_comm_size': 1.464882125440877e-05,\n",
      "   'lincs_comm_ml_undir_unwei_p95_eff_comm_size': 2.524857834838018e-05,\n",
      "   'lincs_comm_ml_undir_wei_pNone_eff_comm_size': -1.957029674632132e-05,\n",
      "   'litgw_comm_im_dir_unwei_p95_eff_comm_size': 5.5770134584246535e-05,\n",
      "   'litgw_comm_im_dir_wei_pNone_eff_comm_size': -0.0009932620064091835,\n",
      "   'litgw_comm_im_undir_unwei_p95_eff_comm_size': -0.008124075060797438,\n",
      "   'litgw_comm_ml_undir_unwei_p95_eff_comm_size': 0.0002052228821082927,\n",
      "   'litgw_comm_ml_undir_wei_pNone_eff_comm_size': -0.00019560027187873866}),\n",
      " (0.1728395061728395,\n",
      "  {'A': 8.216437267083959e-05,\n",
      "   'cite_count': -0.001523975581087409,\n",
      "   'lincs_comm_im_dir_unwei_p95_eff_comm_size': 5.2413862465898125e-05,\n",
      "   'lincs_comm_im_dir_wei_pNone_eff_comm_size': 0.00011199579234932575,\n",
      "   'lincs_comm_ml_undir_unwei_p95_eff_comm_size': -0.00044791459340358885,\n",
      "   'lincs_comm_ml_undir_wei_pNone_eff_comm_size': -0.0001892958173451774,\n",
      "   'litgw_comm_im_dir_unwei_p95_eff_comm_size': 0.00012256911660603873,\n",
      "   'litgw_comm_im_dir_wei_pNone_eff_comm_size': -0.0004948055528299489,\n",
      "   'litgw_comm_im_undir_unwei_p95_eff_comm_size': -0.0012814004998140344,\n",
      "   'litgw_comm_ml_undir_unwei_p95_eff_comm_size': 0.0013388040658431095,\n",
      "   'litgw_comm_ml_undir_wei_pNone_eff_comm_size': -0.0008433350435521532}),\n",
      " (0.21153846153846154,\n",
      "  {'A': 4.0557813266189166e-05,\n",
      "   'cite_count': 0.0003772428478398039,\n",
      "   'delta_year': -0.01613865929235725,\n",
      "   'lincs_comm_im_dir_unwei_p95_eff_comm_size': 9.683008064979257e-05,\n",
      "   'lincs_comm_im_dir_wei_pNone_eff_comm_size': 8.992617949133548e-05,\n",
      "   'lincs_comm_im_undir_unwei_p95_eff_comm_size': 0.03264527566971737,\n",
      "   'lincs_comm_ml_undir_unwei_p95_eff_comm_size': -0.00022175601719812916,\n",
      "   'lincs_comm_ml_undir_wei_pNone_eff_comm_size': -0.00017344110888699708,\n",
      "   'litgw_comm_im_dir_unwei_p95_eff_comm_size': 9.226051507875439e-05,\n",
      "   'litgw_comm_im_dir_wei_pNone_eff_comm_size': -0.0012212874869663045,\n",
      "   'litgw_comm_im_undir_unwei_p95_eff_comm_size': -0.004794010042977646,\n",
      "   'litgw_comm_im_undir_wei_pNone_eff_comm_size': -0.014589227309528814,\n",
      "   'litgw_comm_ml_undir_unwei_p95_eff_comm_size': 0.0010578513485019092,\n",
      "   'litgw_comm_ml_undir_wei_pNone_eff_comm_size': -0.0011527451438870047,\n",
      "   'mu': -0.04330415431468664})]\n"
     ]
    }
   ],
   "source": [
    "pprint('out-sample mean prec: {0:.3f}, err: {1:.3f}, base {2:.3f}'.format(np.mean([x for x, _ in p_opts]), \n",
    "                                                         np.std([x for x, _ in p_opts]),\n",
    "                                                                       1. - df_test[bdist].mean()))\n",
    "pprint(feat_dict)"
   ]
  },
  {
   "cell_type": "code",
   "execution_count": 24,
   "metadata": {},
   "outputs": [
    {
     "name": "stdout",
     "output_type": "stream",
     "text": [
      "6626\n",
      "power law exponent: -2.310\n",
      "7926\n",
      "total size of train and test : 5522 2404\n",
      "Ratio test to all: 0.3033055765833964. Should be 0.3\n",
      "df_train power law exponent: -1.970\n",
      "df_test power law exponent: -2.355\n"
     ]
    },
    {
     "data": {
      "image/png": "[encoded data removed]",
      "text/plain": [
       "<Figure size 432x288 with 1 Axes>"
      ]
     },
     "metadata": {
      "needs_background": "light"
     },
     "output_type": "display_data"
    }
   ],
   "source": [
    "rns = RandomState(seed0)\n",
    "n_trials = 10\n",
    "nmax = 10000\n",
    "seeds = rns.randint(nmax, size=n_trials)\n",
    "# cur_features = list(set(trial_features) - {'obs_mu'})\n",
    "cur_features = list(set(trial_features) - {'obs_mu'})\n",
    "\n",
    "touch_columns = list(set(trial_features) - {'obs_mu'})\n",
    "dfw = transform_last_stage(df, touch_columns, origin, 2, False, verbose=False)\n",
    "df_train, df_test = sample_by_length(dfw, (up, dn), head=10, seed=11, frac_test=0.3, verbose=True)\n",
    "dfa_train, dfa_test = df_train[df_train['obs_mu'].isnull()].copy(), df_test[df_test['obs_mu'].isnull()].copy()\n",
    "dfb_train, dfb_test = df_train[~df_train['obs_mu'].isnull()].copy(), df_test[~df_test['obs_mu'].isnull()].copy()\n",
    "\n",
    "df_train, df_test = dfa_train, dfa_test\n",
    "\n",
    "p_opts = []\n",
    "for seed in seeds:\n",
    "#     df_train2 = df_train\n",
    "    df_train2 = simple_stratify(df_train, bdist, seed=seed, ratios=(2, 1))\n",
    "    X_train, y_train = df_train2[cur_features], df_train2[bdist]\n",
    "    clf = DecisionTreeClassifier(max_depth=4, min_samples_leaf=10, random_state=seed)\n",
    "    clf = clf.fit(X_train, y_train)\n",
    "    xs, ys, p_norm = produce_topk_model(clf, df_test, cur_features, bdist, 'rf')\n",
    "    p_opts.append((np.max(ys), p_norm))"
   ]
  },
  {
   "cell_type": "code",
   "execution_count": 25,
   "metadata": {},
   "outputs": [
    {
     "name": "stdout",
     "output_type": "stream",
     "text": [
      "'out-sample mean prec: 0.193, err: 0.030, base 0.108'\n"
     ]
    }
   ],
   "source": [
    "pprint('out-sample mean prec: {0:.3f}, err: {1:.3f}, base {2:.3f}'.format(np.mean([x for x, _ in p_opts]), \n",
    "                                                         np.std([x for x, _ in p_opts]),\n",
    "                                                                       1. - df_test[bdist].mean()))"
   ]
  },
  {
   "cell_type": "code",
   "execution_count": 22,
   "metadata": {},
   "outputs": [
    {
     "name": "stdout",
     "output_type": "stream",
     "text": [
      "6626\n",
      "power law exponent: -2.310\n",
      "7926\n",
      "total size of train and test : 5522 2404\n",
      "Ratio test to all: 0.3033055765833964. Should be 0.3\n",
      "df_train power law exponent: -1.970\n",
      "df_test power law exponent: -2.355\n"
     ]
    },
    {
     "data": {
      "image/png": "[encoded data removed]",
      "text/plain": [
       "<Figure size 432x288 with 1 Axes>"
      ]
     },
     "metadata": {
      "needs_background": "light"
     },
     "output_type": "display_data"
    }
   ],
   "source": [
    "# rf\n",
    "from sklearn.ensemble import RandomForestClassifier\n",
    "\n",
    "\n",
    "rns = RandomState(seed0)\n",
    "n_trials = 10\n",
    "nmax = 10000\n",
    "seeds = rns.randint(nmax, size=n_trials)\n",
    "# cur_features = list(set(trial_features) - {'obs_mu'})\n",
    "cur_features = list(set(trial_features) - {'obs_mu'})\n",
    "touch_columns = list(set(trial_features) - {'obs_mu'})\n",
    "dfw = transform_last_stage(df, touch_columns, origin, 2, False, verbose=False)\n",
    "df_train, df_test = sample_by_length(dfw, (up, dn), head=10, seed=11, frac_test=0.3, verbose=True)\n",
    "dfa_train, dfa_test = df_train[df_train['obs_mu'].isnull()].copy(), df_test[df_test['obs_mu'].isnull()].copy()\n",
    "dfb_train, dfb_test = df_train[~df_train['obs_mu'].isnull()].copy(), df_test[~df_test['obs_mu'].isnull()].copy()\n",
    "\n",
    "df_train, df_test = dfa_train, dfa_test\n",
    "\n",
    "p_opts = []\n",
    "for seed in seeds:\n",
    "    df_train2 = df_train\n",
    "#     df_train2 = simple_stratify(df_train, bdist, seed=seed, ratios=(2, 1))\n",
    "    X_train, y_train = df_train2[cur_features], df_train2[bdist]\n",
    "    clf = RandomForestClassifier(max_depth=4, min_samples_leaf=10, random_state=seed)\n",
    "    clf = clf.fit(X_train, y_train)\n",
    "    xs, ys, p_norm = produce_topk_model(clf, df_test, cur_features, bdist, 'rf')\n",
    "    p_opts.append((np.max(ys), p_norm))"
   ]
  },
  {
   "cell_type": "code",
   "execution_count": 23,
   "metadata": {},
   "outputs": [
    {
     "name": "stdout",
     "output_type": "stream",
     "text": [
      "'out-sample mean prec: 0.216, err: 0.058, base 0.108'\n"
     ]
    }
   ],
   "source": [
    "pprint('out-sample mean prec: {0:.3f}, err: {1:.3f}, base {2:.3f}'.format(np.mean([x for x, _ in p_opts]), \n",
    "                                                         np.std([x for x, _ in p_opts]),\n",
    "                                                                       1. - df_test[bdist].mean()))"
   ]
  },
  {
   "cell_type": "code",
   "execution_count": 26,
   "metadata": {},
   "outputs": [
    {
     "name": "stdout",
     "output_type": "stream",
     "text": [
      "2 0.957 0.103\n",
      "3 0.957 0.103\n",
      "4 0.957 0.103\n",
      "5 0.957 0.103\n",
      "6 0.957 0.103\n"
     ]
    }
   ],
   "source": [
    "for k in [2, 3, 4, 5, 6]:\n",
    "    y_pred = clf.predict(X_train)\n",
    "    acc = balanced_accuracy_score(y_train, y_pred, adjusted=True)\n",
    "    acc = precision_score(y_train, y_pred,  pos_label=0)\n",
    "    X_test, y_test = df_test[cur_features], df_test[bdist]\n",
    "    y_pred_test = clf.predict(X_test)\n",
    "    acc_test = balanced_accuracy_score(y_test, y_pred_test, adjusted=True)\n",
    "    acc_test = precision_score(y_test, y_pred_test,  pos_label=0)\n",
    "    print('{0} {1:.3f} {2:.3f}'.format(k, acc, acc_test))"
   ]
  },
  {
   "cell_type": "code",
   "execution_count": 29,
   "metadata": {},
   "outputs": [
    {
     "name": "stdout",
     "output_type": "stream",
     "text": [
      "6626\n",
      "power law exponent: -2.310\n",
      "7926\n",
      "total size of train and test : 5522 2404\n",
      "Ratio test to all: 0.3033055765833964. Should be 0.3\n",
      "df_train power law exponent: -1.970\n",
      "df_test power law exponent: -2.355\n"
     ]
    },
    {
     "data": {
      "image/png": "[encoded data removed]",
      "text/plain": [
       "<Figure size 432x288 with 1 Axes>"
      ]
     },
     "metadata": {
      "needs_background": "light"
     },
     "output_type": "display_data"
    }
   ],
   "source": [
    "cur_features = list(set(trial_features) - {'obs_mu'})\n",
    "touch_columns = list(set(trial_features) - {'obs_mu'})\n",
    "dfw = transform_last_stage(df, touch_columns, origin, 2, False, verbose=False)\n",
    "df_train, df_test = sample_by_length(dfw, (up, dn), head=10, seed=11, frac_test=0.3, verbose=True)\n",
    "dfa_train, dfa_test = df_train[df_train['obs_mu'].isnull()].copy(), df_test[df_test['obs_mu'].isnull()].copy()\n",
    "dfb_train, dfb_test = df_train[~df_train['obs_mu'].isnull()].copy(), df_test[~df_test['obs_mu'].isnull()].copy()\n",
    "\n",
    "df_train, df_test = dfa_train, dfa_test\n",
    "\n",
    "clf = DecisionTreeClassifier(max_depth=4, min_samples_leaf=10, random_state=11)\n",
    "X_train, y_train = df_train[cur_features], df_train[bdist]\n",
    "clf = clf.fit(X_train, y_train)\n",
    "xs, ys, p_norm = produce_topk_model(clf, df_test, cur_features, bdist, 'rf 4')"
   ]
  },
  {
   "cell_type": "code",
   "execution_count": 30,
   "metadata": {},
   "outputs": [],
   "source": [
    "export_graphviz(clf, out_file=expanduser('~/tmp/tree.dot'))"
   ]
  }
 ],
 "metadata": {
  "kernelspec": {
   "display_name": "Python 3",
   "language": "python",
   "name": "python3"
  },
  "language_info": {
   "codemirror_mode": {
    "name": "ipython",
    "version": 3
   },
   "file_extension": ".py",
   "mimetype": "text/x-python",
   "name": "python",
   "nbconvert_exporter": "python",
   "pygments_lexer": "ipython3",
   "version": "3.6.6"
  }
 },
 "nbformat": 4,
 "nbformat_minor": 2
}
